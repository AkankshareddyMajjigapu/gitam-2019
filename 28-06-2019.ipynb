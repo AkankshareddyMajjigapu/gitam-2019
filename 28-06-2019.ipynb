{
 "cells": [
  {
   "cell_type": "markdown",
   "metadata": {},
   "source": [
    "# introduction to opp python\n",
    "### on of the popular approach to solve a programming problem by creating an objects,this is known as object oriented progaramming \\\n",
    "## an object as two characters\n",
    "### 1. inheritance\n",
    "### 2. encapsulation\n",
    "### 3. ploymorphism\n",
    "\n",
    "## class:\n",
    "### a class is blueprint of the object or logical entity\n",
    " \n",
    "## object:\n",
    "### blueprint of class or instance of the class or physical entity\n",
    "  \n",
    "## methods:\n",
    "### part of class and can be called with"
   ]
  },
  {
   "cell_type": "code",
   "execution_count": 1,
   "metadata": {},
   "outputs": [
    {
     "name": "stdout",
     "output_type": "stream",
     "text": [
      "test() for function\n"
     ]
    }
   ],
   "source": [
    "def test():\n",
    "    print('test() for function')\n",
    "    return\n",
    "test()"
   ]
  },
  {
   "cell_type": "code",
   "execution_count": 2,
   "metadata": {},
   "outputs": [
    {
     "name": "stdout",
     "output_type": "stream",
     "text": [
      "test()for the class and method\n"
     ]
    }
   ],
   "source": [
    "class Demo:\n",
    "    def test(self):\n",
    "        print(\"test()for the class and method\")\n",
    "        return\n",
    "obj= Demo()\n",
    "obj.test()"
   ]
  },
  {
   "cell_type": "code",
   "execution_count": 6,
   "metadata": {},
   "outputs": [
    {
     "data": {
      "text/plain": [
       "120"
      ]
     },
     "execution_count": 6,
     "metadata": {},
     "output_type": "execute_result"
    }
   ],
   "source": [
    "class Demo1:\n",
    "    def fact(self,n):\n",
    "        fact = 1\n",
    "        while(n!=0):\n",
    "            fact=fact*n\n",
    "            n=n-1\n",
    "        return fact\n",
    "p1=Demo1()\n",
    "p1.fact(5)\n"
   ]
  },
  {
   "cell_type": "code",
   "execution_count": 21,
   "metadata": {},
   "outputs": [
    {
     "name": "stdout",
     "output_type": "stream",
     "text": [
      "300\n"
     ]
    }
   ],
   "source": [
    "class Demo2:\n",
    "    def __init__(self,p1,p2):\n",
    "        self.p1 = p1\n",
    "        self.p2 = p2\n",
    "    def add(self,p1,p2):\n",
    "        return p1 + p2\n",
    "c1= Demo2(10,20)\n",
    "print(c1.add(100,200))\n"
   ]
  },
  {
   "cell_type": "code",
   "execution_count": 22,
   "metadata": {},
   "outputs": [
    {
     "name": "stdout",
     "output_type": "stream",
     "text": [
      "p1=  10\n",
      "p2=  20\n"
     ]
    }
   ],
   "source": [
    "class Demo2:\n",
    "    def accept(self,p1,p2):\n",
    "        a = p1\n",
    "        b = p2\n",
    "        return\n",
    "    def display(self,p1,p2):\n",
    "        print(\"p1= \",p1)\n",
    "        print(\"p2= \",p2)\n",
    "c1 = Demo2()\n",
    "c1.accept(10,20)\n",
    "c1.display(10,20)\n"
   ]
  },
  {
   "cell_type": "code",
   "execution_count": 1,
   "metadata": {},
   "outputs": [
    {
     "name": "stdout",
     "output_type": "stream",
     "text": [
      "java\n"
     ]
    }
   ],
   "source": [
    "class Foo:\n",
    "    def printline(self, line='python'):\n",
    "        print(line)\n",
    "o1 = Foo()\n",
    "o1.printline('java')\n",
    "\n"
   ]
  },
  {
   "cell_type": "code",
   "execution_count": 5,
   "metadata": {},
   "outputs": [
    {
     "name": "stdout",
     "output_type": "stream",
     "text": [
      "21\n"
     ]
    }
   ],
   "source": [
    "import numpy as np\n",
    "a = np.array([1,2,3,5,8])\n",
    "b = np.array([0,3,4,2,1])\n",
    "c = a + b\n",
    "c = c*a\n",
    " \n",
    "print(c[2])"
   ]
  },
  {
   "cell_type": "markdown",
   "metadata": {},
   "source": [
    "## pandas basics \n",
    "python is one of the popular programming language for data analysis <br>\n",
    "python is offering the lib called pandas used for importing and analysing pretty much faster and easier\n",
    "\n",
    " pandas data for\n"
   ]
  },
  {
   "cell_type": "code",
   "execution_count": 8,
   "metadata": {},
   "outputs": [
    {
     "name": "stdout",
     "output_type": "stream",
     "text": [
      "       name                      email  mobile number address\n",
      "0   faalthu  vustelamanish99@gmail.com             12     hyd\n",
      "1       sai      saipriya567@gmail.com             34     hyd\n",
      "2  priyanth       priyanth67@gmail.com             56     hyd\n",
      "3     vandu  vandana.ayineni@gmail.com             78     hyd\n",
      "4     srija          srija45@gmail.com             90     hyd\n",
      "5    sheelu      sheeluroy15@gmail.com             64     hyd\n"
     ]
    }
   ],
   "source": [
    "import pandas as pd\n",
    "dict = {\"name\" : [\"faalthu\",\"sai\",\"priyanth\",\"vandu\",\"srija\",\"sheelu\"],\n",
    "       \"email\" : [\"vustelamanish99@gmail.com\",\"saipriya567@gmail.com\",\"priyanth67@gmail.com\",\"vandana.ayineni@gmail.com\",\"srija45@gmail.com\",\"sheeluroy15@gmail.com\"],\n",
    "       \"mobile number\" : [12,34,56,78,90,64],\n",
    "        \"address\" : [\"hyd\",\"hyd\",\"hyd\",\"hyd\",\"hyd\",\"hyd\"]}\n",
    "b = pd.DataFrame(dict)\n",
    "print(b)\n"
   ]
  },
  {
   "cell_type": "code",
   "execution_count": null,
   "metadata": {},
   "outputs": [],
   "source": [
    "import "
   ]
  }
 ],
 "metadata": {
  "kernelspec": {
   "display_name": "Python 3",
   "language": "python",
   "name": "python3"
  },
  "language_info": {
   "codemirror_mode": {
    "name": "ipython",
    "version": 3
   },
   "file_extension": ".py",
   "mimetype": "text/x-python",
   "name": "python",
   "nbconvert_exporter": "python",
   "pygments_lexer": "ipython3",
   "version": "3.7.3"
  }
 },
 "nbformat": 4,
 "nbformat_minor": 2
}
