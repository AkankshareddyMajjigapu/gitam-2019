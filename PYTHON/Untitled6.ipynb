{
 "cells": [
  {
   "cell_type": "markdown",
   "metadata": {},
   "source": [
    "def binarysearch(a,lIndex,rIndex,tarItem):\n",
    "    while lIndex <= rIndex:\n",
    "        mIndex = lIndex + (rIndex-lIndex)//2;\n",
    "        if a[mIndex] == tarItem:\n",
    "            return mIndex\n",
    "        if a[mIndex] > tarItem:\n",
    "            rIndex = mIndex - 1\n",
    "        else :\n",
    "            lIndex = mIndex + 1\n",
    "    return -1\n",
    "list1 = [1,4,9,15,25,45,57,88,98]\n",
    "res = binarysearch(list1,0,8,818)\n",
    "if res != -1:\n",
    "    print(\"item is found\")\n",
    "else:\n",
    "    print(\"item is not found\")"
   ]
  },
  {
   "cell_type": "markdown",
   "metadata": {},
   "source": [
    "## bubble sort\n",
    "## It compares the adj items, if the first item is greater than second item then we need to swap the item "
   ]
  },
  {
   "cell_type": "code",
   "execution_count": 8,
   "metadata": {},
   "outputs": [
    {
     "name": "stdout",
     "output_type": "stream",
     "text": [
      "1 3 6 18 19 25 "
     ]
    }
   ],
   "source": [
    "def bubblesort(a):\n",
    "    for i in range(len(a)-1):\n",
    "        for j in range(len(a)-1):\n",
    "            if a[j]>a[j+1]:\n",
    "                a[j],a[j+1]=a[j+1],a[j]\n",
    "    for i in range (len(a)):\n",
    "        print(a[i],end=\" \")\n",
    "list1=[19,1,25,6,18,3]\n",
    "bubblesort(list1)\n",
    "    \n",
    "    "
   ]
  },
  {
   "cell_type": "code",
   "execution_count": null,
   "metadata": {},
   "outputs": [],
   "source": [
    "def sumOnlyDigits(str):\n",
    "    sum=0\n",
    "    lst=list(str)\n",
    "    for x in range(len)"
   ]
  }
 ],
 "metadata": {
  "kernelspec": {
   "display_name": "Python 3",
   "language": "python",
   "name": "python3"
  },
  "language_info": {
   "codemirror_mode": {
    "name": "ipython",
    "version": 3
   },
   "file_extension": ".py",
   "mimetype": "text/x-python",
   "name": "python",
   "nbconvert_exporter": "python",
   "pygments_lexer": "ipython3",
   "version": "3.7.3"
  }
 },
 "nbformat": 4,
 "nbformat_minor": 2
}
