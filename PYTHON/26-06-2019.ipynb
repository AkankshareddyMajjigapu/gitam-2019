{
 "cells": [
  {
   "cell_type": "code",
   "execution_count": 1,
   "metadata": {},
   "outputs": [
    {
     "name": "stdout",
     "output_type": "stream",
     "text": [
      "16\n",
      "10\n"
     ]
    }
   ],
   "source": [
    "def sumOnlyEvenDigits(str):\n",
    "    sum=0\n",
    "    lst=list(str)\n",
    "    for x in range(len(lst)):\n",
    "        if ord(lst[x]) >= 48 and ord(lst[x]) <= 57:\n",
    "            ac = ord(lst[x]) - 48\n",
    "            if(ac%2==0):\n",
    "                sum=sum + ac\n",
    "    return sum\n",
    "print(sumOnlyEvenDigits(\"Application1889\"))\n",
    "print(sumOnlyEvenDigits(\"Tell574s69t\"))"
   ]
  },
  {
   "cell_type": "code",
   "execution_count": 2,
   "metadata": {},
   "outputs": [
    {
     "name": "stdout",
     "output_type": "stream",
     "text": [
      "to\n"
     ]
    }
   ],
   "source": [
    "name = \"snow storm\"\n",
    "\n",
    "print(name[6:8])"
   ]
  },
  {
   "cell_type": "code",
   "execution_count": 12,
   "metadata": {},
   "outputs": [
    {
     "data": {
      "text/plain": [
       "['a', 'P', 'P', 'l', 'i', 'c', 'A', 'T', 'I', 'O', 'N']"
      ]
     },
     "execution_count": 12,
     "metadata": {},
     "output_type": "execute_result"
    }
   ],
   "source": [
    "def caseConversion(str):\n",
    "    lst = list(str)\n",
    "    for x in range(len(lst)):\n",
    "        if ord(lst[x]) >= 65 and ord(lst[x]) <= 90:\n",
    "            lst[x] =chr(ord(lst[x])+32)\n",
    "        elif ord(lst[x]) >=97 and ord(lst[x]) <=122:\n",
    "            lst[x]=chr(ord(lst[x])-32)\n",
    "    return lst\n",
    "caseConversion(\"AppLICation\")"
   ]
  },
  {
   "cell_type": "code",
   "execution_count": 13,
   "metadata": {},
   "outputs": [
    {
     "data": {
      "text/plain": [
       "'b'"
      ]
     },
     "execution_count": 13,
     "metadata": {},
     "output_type": "execute_result"
    }
   ],
   "source": [
    "chr(98)"
   ]
  },
  {
   "cell_type": "code",
   "execution_count": 3,
   "metadata": {},
   "outputs": [
    {
     "name": "stdout",
     "output_type": "stream",
     "text": [
      "False\n",
      "True\n"
     ]
    }
   ],
   "source": [
    "s = \"Application\"\n",
    "s1 = \"ANIL\"\n",
    "print(s.isupper())\n",
    "print(s1.isupper())"
   ]
  },
  {
   "cell_type": "markdown",
   "metadata": {},
   "source": []
  },
  {
   "cell_type": "code",
   "execution_count": 5,
   "metadata": {},
   "outputs": [
    {
     "name": "stdout",
     "output_type": "stream",
     "text": [
      "False\n",
      "True\n"
     ]
    }
   ],
   "source": [
    "s = \"python programming\"\n",
    "s1 = \"Python Programming\"\n",
    "print(s.istitle())\n",
    "print(s1.istitle())"
   ]
  },
  {
   "cell_type": "code",
   "execution_count": 6,
   "metadata": {},
   "outputs": [
    {
     "name": "stdout",
     "output_type": "stream",
     "text": [
      "p y t h o n\n"
     ]
    }
   ],
   "source": [
    "str = \"python\"\n",
    "print(\" \".join(str))\n"
   ]
  },
  {
   "cell_type": "code",
   "execution_count": 8,
   "metadata": {},
   "outputs": [
    {
     "name": "stdout",
     "output_type": "stream",
     "text": [
      "python,programming\n"
     ]
    }
   ],
   "source": [
    "print(\",\".join([\"python,programming\"]))"
   ]
  },
  {
   "cell_type": "code",
   "execution_count": 9,
   "metadata": {},
   "outputs": [
    {
     "name": "stdout",
     "output_type": "stream",
     "text": [
      "['python,Programming,is,easy,tp,learn']\n",
      "['python,Progr', 'mming,is,e', 'sy,tp,le', 'rn']\n",
      "['python', 'Programming', 'is', 'easy', 'tp', 'learn']\n"
     ]
    }
   ],
   "source": [
    "s = \"python,Programming,is,easy,tp,learn\"\n",
    "print(s.split())\n",
    "print(s.split(\"a\"))\n",
    "print(s.split(\",\"))"
   ]
  },
  {
   "cell_type": "code",
   "execution_count": 10,
   "metadata": {},
   "outputs": [
    {
     "name": "stdout",
     "output_type": "stream",
     "text": [
      "['P', 'y', 't', 'h', 'o', 'n', ' ', 'p', 'r', 'o', 'g', 'r', 'a', 'm', 'm', 'i', 'n', 'g', ' ', 'i', 's', ' ', 'e', 'a', 's', 'y', ' ', 't', 'o', ' ', 'l', 'e', 'a', 'r', 'n']\n"
     ]
    }
   ],
   "source": [
    "s = \"Python programming is easy to learn\"\n",
    "lst = list(s)\n",
    "print(lst)"
   ]
  },
  {
   "cell_type": "code",
   "execution_count": 11,
   "metadata": {},
   "outputs": [
    {
     "name": "stdout",
     "output_type": "stream",
     "text": [
      "Python Proapplicationmming\n"
     ]
    }
   ],
   "source": [
    "s = \"Python Programming\"\n",
    "print(s.replace(\"gra\",\"application\"))"
   ]
  },
  {
   "cell_type": "code",
   "execution_count": 14,
   "metadata": {},
   "outputs": [
    {
     "name": "stdout",
     "output_type": "stream",
     "text": [
      "3 letters found\n"
     ]
    }
   ],
   "source": [
    "count = 3\n",
    "for letter in 'Hello World':\n",
    "    if(letter == '1'):\n",
    "        count +=1\n",
    "print(count,'letters found')"
   ]
  },
  {
   "cell_type": "raw",
   "metadata": {},
   "source": []
  },
  {
   "cell_type": "code",
   "execution_count": 16,
   "metadata": {},
   "outputs": [
    {
     "name": "stdout",
     "output_type": "stream",
     "text": [
      "t1[0]= Python\n",
      "t1[2]= 1989\n",
      "t1[-1]= AI\n",
      "t1[1:4]= ('Programming', 1989, 2019)\n",
      "t1[2:-2]= (1989, 2019)\n"
     ]
    }
   ],
   "source": [
    "t1 = (\"Python\",\"Programming\",1989,2019,'Machine Learning','AI')\n",
    "print(\"t1[0]=\" ,t1[0])\n",
    "print(\"t1[2]=\",t1[2])\n",
    "print(\"t1[-1]=\",t1[-1])\n",
    "print(\"t1[1:4]=\",t1[1:4])\n",
    "print(\"t1[2:-2]=\",t1[2:-2])"
   ]
  },
  {
   "cell_type": "code",
   "execution_count": null,
   "metadata": {},
   "outputs": [],
   "source": []
  }
 ],
 "metadata": {
  "kernelspec": {
   "display_name": "Python 3",
   "language": "python",
   "name": "python3"
  },
  "language_info": {
   "codemirror_mode": {
    "name": "ipython",
    "version": 3
   },
   "file_extension": ".py",
   "mimetype": "text/x-python",
   "name": "python",
   "nbconvert_exporter": "python",
   "pygments_lexer": "ipython3",
   "version": "3.7.3"
  }
 },
 "nbformat": 4,
 "nbformat_minor": 2
}
